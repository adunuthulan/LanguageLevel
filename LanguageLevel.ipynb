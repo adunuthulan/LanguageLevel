{
  "nbformat": 4,
  "nbformat_minor": 0,
  "metadata": {
    "colab": {
      "name": "LanguageLevel.ipynb",
      "provenance": [],
      "collapsed_sections": [
        "ApYxG2YlTMex"
      ],
      "toc_visible": true,
      "include_colab_link": true
    },
    "kernelspec": {
      "name": "python3",
      "display_name": "Python 3"
    }
  },
  "cells": [
    {
      "cell_type": "markdown",
      "metadata": {
        "id": "view-in-github",
        "colab_type": "text"
      },
      "source": [
        "<a href=\"https://colab.research.google.com/github/adunuthulan/LanguageLevel/blob/master/LanguageLevel.ipynb\" target=\"_parent\"><img src=\"https://colab.research.google.com/assets/colab-badge.svg\" alt=\"Open In Colab\"/></a>"
      ]
    },
    {
      "cell_type": "markdown",
      "metadata": {
        "id": "b3-PvH9Rj7Qg",
        "colab_type": "text"
      },
      "source": [
        "# **Analyzing The Reading Level of Text with Machine Learning**\n",
        "By Nirav Adunuthula\n",
        "Started Oct 11, 2019"
      ]
    },
    {
      "cell_type": "markdown",
      "metadata": {
        "id": "DZX6g7b7cpuo",
        "colab_type": "text"
      },
      "source": [
        "I have recently wondered if the saying, \"All news articles are written at a fourth grade reading level\", was true. This is a project to try and answer that question."
      ]
    },
    {
      "cell_type": "markdown",
      "metadata": {
        "id": "SFuHQi3fScFA",
        "colab_type": "text"
      },
      "source": [
        "##Why Predict Reading Level?\n",
        "For beginnners, learning a language is difficult. You need to speak, hear, and read the language to gain full literacy. For people unable to join a class, the internet is a great resource for free material; however, there isn't always a clear guide for what books are at a person's level that will help them improve their literacy. The issue I've run into is as such: **how would one categorize writing into a reading level?**\n",
        "\n",
        "Here are some features off the top of my head that logically would correspond to reading level:\n",
        "* The complexity of the words used/the maturity level\n",
        "* The average word/sentence length\n",
        "* The use of complex punctuation/grammar (colons, dashes, etc.)\n",
        "\n",
        "The company Lexile has a tool to determine the reading level of a text, and they use an algorithm based upon similar features. The info for this analyzer can be found [here](https://lexile.com/educators/tools-to-support-reading-at-school/tools-to-determine-a-books-complexity/).\n",
        "\n",
        "There might be other features that we are not considering or that are not clear to us. For that, we can use Machine Learning. "
      ]
    },
    {
      "cell_type": "markdown",
      "metadata": {
        "id": "UE7QjB1zVubb",
        "colab_type": "text"
      },
      "source": [
        "## The Data\n",
        "\n",
        "But in order to use ML, we need Data. Books used pedalogically in schools have somewhat well defined levels of reading with the grade the books are taught at, \n",
        "so I shall use them as my training data. Words by themselves are difficult to categorize into reading levels ('the' is probably in every work of literature), so **I shall feed in chapters of books alongside the grade they are taught at as my data.**"
      ]
    },
    {
      "cell_type": "code",
      "metadata": {
        "id": "aIE3t4URjx3M",
        "colab_type": "code",
        "colab": {}
      },
      "source": [
        "try:\n",
        "  # %tensorflow_version only exists in Colab.\n",
        "  %tensorflow_version 2.x\n",
        "except Exception:\n",
        "  pass"
      ],
      "execution_count": 1,
      "outputs": []
    },
    {
      "cell_type": "code",
      "metadata": {
        "id": "9gahS25gjblq",
        "colab_type": "code",
        "colab": {
          "base_uri": "https://localhost:8080/",
          "height": 52
        },
        "outputId": "f3958063-ca13-4a52-f58d-00ba699ac911"
      },
      "source": [
        "from __future__ import absolute_import, division, print_function, unicode_literals\n",
        "\n",
        "# TensorFlow and tf.keras\n",
        "import tensorflow as tf\n",
        "import keras\n",
        "import tensorflow_hub as hub\n",
        "import tensorflow_datasets as tfds\n",
        "\n",
        "# Helper libraries\n",
        "import numpy as np\n",
        "import matplotlib.pyplot as plt\n",
        "import nltk\n",
        "import pandas as pd\n",
        "import itertools\n",
        "import random\n",
        "\n",
        "print(\"Tensorflow version: \", tf.__version__)\n",
        "print(\"Hub version: \", hub.__version__)"
      ],
      "execution_count": 2,
      "outputs": [
        {
          "output_type": "stream",
          "text": [
            "Tensorflow version:  2.3.0\n",
            "Hub version:  0.8.0\n"
          ],
          "name": "stdout"
        }
      ]
    },
    {
      "cell_type": "code",
      "metadata": {
        "id": "c6UFqHtijgtg",
        "colab_type": "code",
        "colab": {
          "base_uri": "https://localhost:8080/",
          "height": 1000
        },
        "outputId": "b6924a53-b77a-4b46-ee29-137cf61ec7b4"
      },
      "source": [
        "nltk.download(\"book\")"
      ],
      "execution_count": 3,
      "outputs": [
        {
          "output_type": "stream",
          "text": [
            "[nltk_data] Downloading collection 'book'\n",
            "[nltk_data]    | \n",
            "[nltk_data]    | Downloading package abc to /root/nltk_data...\n",
            "[nltk_data]    |   Unzipping corpora/abc.zip.\n",
            "[nltk_data]    | Downloading package brown to /root/nltk_data...\n",
            "[nltk_data]    |   Unzipping corpora/brown.zip.\n",
            "[nltk_data]    | Downloading package chat80 to /root/nltk_data...\n",
            "[nltk_data]    |   Unzipping corpora/chat80.zip.\n",
            "[nltk_data]    | Downloading package cmudict to /root/nltk_data...\n",
            "[nltk_data]    |   Unzipping corpora/cmudict.zip.\n",
            "[nltk_data]    | Downloading package conll2000 to /root/nltk_data...\n",
            "[nltk_data]    |   Unzipping corpora/conll2000.zip.\n",
            "[nltk_data]    | Downloading package conll2002 to /root/nltk_data...\n",
            "[nltk_data]    |   Unzipping corpora/conll2002.zip.\n",
            "[nltk_data]    | Downloading package dependency_treebank to\n",
            "[nltk_data]    |     /root/nltk_data...\n",
            "[nltk_data]    |   Unzipping corpora/dependency_treebank.zip.\n",
            "[nltk_data]    | Downloading package genesis to /root/nltk_data...\n",
            "[nltk_data]    |   Unzipping corpora/genesis.zip.\n",
            "[nltk_data]    | Downloading package gutenberg to /root/nltk_data...\n",
            "[nltk_data]    |   Unzipping corpora/gutenberg.zip.\n",
            "[nltk_data]    | Downloading package ieer to /root/nltk_data...\n",
            "[nltk_data]    |   Unzipping corpora/ieer.zip.\n",
            "[nltk_data]    | Downloading package inaugural to /root/nltk_data...\n",
            "[nltk_data]    |   Unzipping corpora/inaugural.zip.\n",
            "[nltk_data]    | Downloading package movie_reviews to\n",
            "[nltk_data]    |     /root/nltk_data...\n",
            "[nltk_data]    |   Unzipping corpora/movie_reviews.zip.\n",
            "[nltk_data]    | Downloading package nps_chat to /root/nltk_data...\n",
            "[nltk_data]    |   Unzipping corpora/nps_chat.zip.\n",
            "[nltk_data]    | Downloading package names to /root/nltk_data...\n",
            "[nltk_data]    |   Unzipping corpora/names.zip.\n",
            "[nltk_data]    | Downloading package ppattach to /root/nltk_data...\n",
            "[nltk_data]    |   Unzipping corpora/ppattach.zip.\n",
            "[nltk_data]    | Downloading package reuters to /root/nltk_data...\n",
            "[nltk_data]    | Downloading package senseval to /root/nltk_data...\n",
            "[nltk_data]    |   Unzipping corpora/senseval.zip.\n",
            "[nltk_data]    | Downloading package state_union to /root/nltk_data...\n",
            "[nltk_data]    |   Unzipping corpora/state_union.zip.\n",
            "[nltk_data]    | Downloading package stopwords to /root/nltk_data...\n",
            "[nltk_data]    |   Unzipping corpora/stopwords.zip.\n",
            "[nltk_data]    | Downloading package swadesh to /root/nltk_data...\n",
            "[nltk_data]    |   Unzipping corpora/swadesh.zip.\n",
            "[nltk_data]    | Downloading package timit to /root/nltk_data...\n",
            "[nltk_data]    |   Unzipping corpora/timit.zip.\n",
            "[nltk_data]    | Downloading package treebank to /root/nltk_data...\n",
            "[nltk_data]    |   Unzipping corpora/treebank.zip.\n",
            "[nltk_data]    | Downloading package toolbox to /root/nltk_data...\n",
            "[nltk_data]    |   Unzipping corpora/toolbox.zip.\n",
            "[nltk_data]    | Downloading package udhr to /root/nltk_data...\n",
            "[nltk_data]    |   Unzipping corpora/udhr.zip.\n",
            "[nltk_data]    | Downloading package udhr2 to /root/nltk_data...\n",
            "[nltk_data]    |   Unzipping corpora/udhr2.zip.\n",
            "[nltk_data]    | Downloading package unicode_samples to\n",
            "[nltk_data]    |     /root/nltk_data...\n",
            "[nltk_data]    |   Unzipping corpora/unicode_samples.zip.\n",
            "[nltk_data]    | Downloading package webtext to /root/nltk_data...\n",
            "[nltk_data]    |   Unzipping corpora/webtext.zip.\n",
            "[nltk_data]    | Downloading package wordnet to /root/nltk_data...\n",
            "[nltk_data]    |   Unzipping corpora/wordnet.zip.\n",
            "[nltk_data]    | Downloading package wordnet_ic to /root/nltk_data...\n",
            "[nltk_data]    |   Unzipping corpora/wordnet_ic.zip.\n",
            "[nltk_data]    | Downloading package words to /root/nltk_data...\n",
            "[nltk_data]    |   Unzipping corpora/words.zip.\n",
            "[nltk_data]    | Downloading package maxent_treebank_pos_tagger to\n",
            "[nltk_data]    |     /root/nltk_data...\n",
            "[nltk_data]    |   Unzipping taggers/maxent_treebank_pos_tagger.zip.\n",
            "[nltk_data]    | Downloading package maxent_ne_chunker to\n",
            "[nltk_data]    |     /root/nltk_data...\n",
            "[nltk_data]    |   Unzipping chunkers/maxent_ne_chunker.zip.\n",
            "[nltk_data]    | Downloading package universal_tagset to\n",
            "[nltk_data]    |     /root/nltk_data...\n",
            "[nltk_data]    |   Unzipping taggers/universal_tagset.zip.\n",
            "[nltk_data]    | Downloading package punkt to /root/nltk_data...\n",
            "[nltk_data]    |   Unzipping tokenizers/punkt.zip.\n",
            "[nltk_data]    | Downloading package book_grammars to\n",
            "[nltk_data]    |     /root/nltk_data...\n",
            "[nltk_data]    |   Unzipping grammars/book_grammars.zip.\n",
            "[nltk_data]    | Downloading package city_database to\n",
            "[nltk_data]    |     /root/nltk_data...\n",
            "[nltk_data]    |   Unzipping corpora/city_database.zip.\n",
            "[nltk_data]    | Downloading package tagsets to /root/nltk_data...\n",
            "[nltk_data]    |   Unzipping help/tagsets.zip.\n",
            "[nltk_data]    | Downloading package panlex_swadesh to\n",
            "[nltk_data]    |     /root/nltk_data...\n",
            "[nltk_data]    | Downloading package averaged_perceptron_tagger to\n",
            "[nltk_data]    |     /root/nltk_data...\n",
            "[nltk_data]    |   Unzipping taggers/averaged_perceptron_tagger.zip.\n",
            "[nltk_data]    | \n",
            "[nltk_data]  Done downloading collection book\n"
          ],
          "name": "stdout"
        },
        {
          "output_type": "execute_result",
          "data": {
            "text/plain": [
              "True"
            ]
          },
          "metadata": {
            "tags": []
          },
          "execution_count": 3
        }
      ]
    },
    {
      "cell_type": "code",
      "metadata": {
        "id": "3gzBsnd8j5k_",
        "colab_type": "code",
        "colab": {
          "base_uri": "https://localhost:8080/",
          "height": 125
        },
        "outputId": "f84a48e3-f39f-4040-eea5-865187847a36"
      },
      "source": [
        "#mount drive when using Google Colab\n",
        "from google.colab import drive\n",
        "drive.mount('/content/drive')"
      ],
      "execution_count": 4,
      "outputs": [
        {
          "output_type": "stream",
          "text": [
            "Go to this URL in a browser: https://accounts.google.com/o/oauth2/auth?client_id=947318989803-6bn6qk8qdgf4n4g3pfee6491hc0brc4i.apps.googleusercontent.com&redirect_uri=urn%3aietf%3awg%3aoauth%3a2.0%3aoob&scope=email%20https%3a%2f%2fwww.googleapis.com%2fauth%2fdocs.test%20https%3a%2f%2fwww.googleapis.com%2fauth%2fdrive%20https%3a%2f%2fwww.googleapis.com%2fauth%2fdrive.photos.readonly%20https%3a%2f%2fwww.googleapis.com%2fauth%2fpeopleapi.readonly&response_type=code\n",
            "\n",
            "Enter your authorization code:\n",
            "··········\n",
            "Mounted at /content/drive\n"
          ],
          "name": "stdout"
        }
      ]
    },
    {
      "cell_type": "code",
      "metadata": {
        "id": "Qm_lQpKreNaa",
        "colab_type": "code",
        "colab": {
          "base_uri": "https://localhost:8080/",
          "height": 123
        },
        "outputId": "0ad6a301-5aa5-4601-edd6-a2e81f0ff258"
      },
      "source": [
        "#import readingdata in a csv file and put it in a pandas data frame\n",
        "\n",
        "path = \"/content/drive/My Drive/Colab Notebooks/LanguageLevelData/CSV/readingdata.csv\"\n",
        "rd = pd.read_csv(path)\n",
        "print(rd)"
      ],
      "execution_count": 5,
      "outputs": [
        {
          "output_type": "stream",
          "text": [
            "                                                Text   ReadingLevel\n",
            "0  Pedro wants to ride his skateboard. Pedro has ...              1\n",
            "1  People eat shrimp. Shrimp comes from the ocean...              1\n",
            "2  Look at all of these big buildings! This is a ...              2\n",
            "3  The environment is all around you. Rocks, soil...              2\n",
            "4  Cactus pygmy-owls are little birds. They are a...              3\n"
          ],
          "name": "stdout"
        }
      ]
    },
    {
      "cell_type": "markdown",
      "metadata": {
        "id": "ApYxG2YlTMex",
        "colab_type": "text"
      },
      "source": [
        "### Pre-processing the Data\n",
        "The data is in the form (String text, int grade_level). We will obtain some features from the data like number of sentences in each text and the number of times each word is repeated. We will ignore any punctuation and possibly discount some common words like 'and' or 'a' in the feature list we use to train a classifier."
      ]
    },
    {
      "cell_type": "code",
      "metadata": {
        "id": "rLpN-cQfkdrk",
        "colab_type": "code",
        "colab": {
          "base_uri": "https://localhost:8080/",
          "height": 250
        },
        "outputId": "8e48ca38-3efd-4b2a-ebdc-ba643e176567"
      },
      "source": [
        "#Preprocess the text data which is in the form (String text, int grade_level)\n",
        "\n",
        "target_labels = rd.loc[:,' ReadingLevel'].values.tolist() #book target labels\n",
        "print(\"Target Labels: \", target_labels)\n",
        "\n",
        "sentences = [] #sentences for each book\n",
        "labeled_sentences = [] #each sentence and the reading level associated with it\n",
        "\n",
        "for row in rd.itertuples():\n",
        "  sentences.append(nltk.sent_tokenize(row[1].lower()))\n",
        "  labeled_sentences.append((sent, row[2]) for sent in sentences[-1])\n",
        "\n",
        "#the number of sentences in each text\n",
        "num_sents = [len(sent) for sent in sentences] \n",
        "\n",
        "#tokenize text without punctuation\n",
        "tokenized_text = [] \n",
        "for row in rd.itertuples():\n",
        "  tokenized_text.append([w for w in nltk.word_tokenize(row[1].lower()) if w.isalnum()])\n",
        "print(tokenized_text[0])\n",
        "\n",
        "num_words = [len(words) for words in tokenized_text] #the number of words in a book\n",
        "\n",
        "#get the average words per sentence in each text\n",
        "avg_book_sentence_length = [w/s for w, s in zip(num_words, num_sents)]\n",
        "print (\"Book 1 has %d words on average.\" % avg_sentence_length[0])\n",
        "print(\"AAA:\", len(avg_book_sentence_length))\n",
        "\n",
        "#find the frequency of words in sentences\n",
        "word_freq = [nltk.FreqDist(t_sent) for t_sent in tokenized_text]\n",
        "print (\"Found %d unique word tokens in book 1\" % len(word_freq[0].items()))\n",
        "\n",
        "#get aggregate data depending on level\n",
        "num_books = dict()\n",
        "avg_words = dict()\n",
        "avg_sents = dict()\n",
        "for i, label in enumerate(target_labels):\n",
        "  num_books.update({label: num_books.get(label, 0) + 1})\n",
        "  avg_words.update({label: avg_words.get(label, 0) + num_words[i]})\n",
        "  avg_sents.update({label: avg_sents.get(label, 0) + num_sents[i]})\n",
        "\n",
        "for label in num_books.keys():\n",
        "  avg_words[label]/=num_books[label]\n",
        "  avg_sents[label]/=num_books[label]\n",
        "\n",
        "print(avg_sents)\n",
        "\n",
        "feature_list = pd.DataFrame()\n",
        "feature_list[\"bookID\"] = [x for x in range(len(rd))]\n",
        "feature_list[\"num_words\"] = num_words\n",
        "feature_list[\"num_sents\"] = num_sents\n",
        "feature_list[\"sent_length\"] = avg_book_sentence_length\n",
        "\n",
        "print(feature_list)"
      ],
      "execution_count": 95,
      "outputs": [
        {
          "output_type": "stream",
          "text": [
            "Target Labels:  [1, 1, 2, 2, 3]\n",
            "['pedro', 'wants', 'to', 'ride', 'his', 'skateboard', 'pedro', 'has', 'pads', 'for', 'his', 'knees', 'he', 'also', 'has', 'pads', 'for', 'his', 'elbows', 'he', 'has', 'pads', 'for', 'his', 'hands', 'he', 'puts', 'on', 'his', 'helmet', 'pedro', 'puts', 'on', 'his', 'safety', 'shoes', 'he', 'has', 'his', 'skateboard', 'let', 'have', 'fun']\n",
            "Book 1 has 5 words on average.\n",
            "AAA: 5\n",
            "Found 22 unique word tokens in book 1\n",
            "{1: 10.5, 2: 35.5, 3: 121.0}\n",
            "   bookID  num_words  num_sents  sent_length\n",
            "0       0         43          8     5.375000\n",
            "1       1         59         13     4.538462\n",
            "2       2        246         28     8.785714\n",
            "3       3        348         43     8.093023\n",
            "4       4       1000        121     8.264463\n"
          ],
          "name": "stdout"
        }
      ]
    },
    {
      "cell_type": "markdown",
      "metadata": {
        "id": "IOJhrQOtFRkB",
        "colab_type": "text"
      },
      "source": [
        "Let's plot some of the dataset's metrics to get an understanding of our data."
      ]
    },
    {
      "cell_type": "code",
      "metadata": {
        "id": "WzotfBds0xC8",
        "colab_type": "code",
        "colab": {
          "base_uri": "https://localhost:8080/",
          "height": 573
        },
        "outputId": "bfccc9ba-2b78-4c69-8694-6a7e739e109e"
      },
      "source": [
        "def plot_avg_words():\n",
        "    x, y = zip(*sorted(avg_words.items()))\n",
        "    \n",
        "    plt.bar(x, y)\n",
        "    plt.xlabel('Reading Level')\n",
        "    plt.ylabel('Avg Words')\n",
        "    plt.title('Avg Words per Reading Level')\n",
        "    plt.show()\n",
        "\n",
        "def plot_avg_sents():\n",
        "    x, y = zip(*sorted(avg_sents.items()))\n",
        "    \n",
        "    plt.bar(x, y)\n",
        "    plt.xlabel('Reading Level')\n",
        "    plt.ylabel('Avg Sentence Length')\n",
        "    plt.title('Avg Sentence Length per Reading Level')\n",
        "    plt.show()\n",
        "\n",
        "plot_avg_words()\n",
        "plot_avg_sents()"
      ],
      "execution_count": 58,
      "outputs": [
        {
          "output_type": "display_data",
          "data": {
            "image/png": "[encoded data removed]",
            "text/plain": [
              "<Figure size 432x288 with 1 Axes>"
            ]
          },
          "metadata": {
            "tags": [],
            "needs_background": "light"
          }
        },
        {
          "output_type": "display_data",
          "data": {
            "image/png": "[encoded data removed]",
            "text/plain": [
              "<Figure size 432x288 with 1 Axes>"
            ]
          },
          "metadata": {
            "tags": [],
            "needs_background": "light"
          }
        }
      ]
    },
    {
      "cell_type": "code",
      "metadata": {
        "id": "kNtu5EnYSi3b",
        "colab_type": "code",
        "colab": {}
      },
      "source": [
        "def shuff(batch_size):\n",
        "  sent_shuff = sentences[0:batch_size]\n",
        "  return random.shuffle(sent_shuff)\n",
        "def batch(batch_size):\n",
        "  return sentences[0:batch_size]"
      ],
      "execution_count": 7,
      "outputs": []
    },
    {
      "cell_type": "markdown",
      "metadata": {
        "id": "BN4a7_C4eUyU",
        "colab_type": "text"
      },
      "source": [
        "###Using the Tensorflow Dataset Pipeline\n",
        "Instead of Pre-Processing the data into tokenized sentences for our own ML analysis, we can also transform the csv into a TF Dataset so it can be easily piped into TF."
      ]
    },
    {
      "cell_type": "code",
      "metadata": {
        "id": "b2z8ugGIYwPg",
        "colab_type": "code",
        "colab": {
          "base_uri": "https://localhost:8080/",
          "height": 143
        },
        "outputId": "c456d14f-6d10-49f8-88d5-45849d52f1fd"
      },
      "source": [
        "target = rd.pop(' ReadingLevel')\n",
        "embedded_dataset = tf.data.Dataset.from_tensor_slices((rd.values[:, 0], target.values))\n",
        "processed_dataset = tf.data.Dataset.from_tensor_slices((feature_list.values[:, 1:], target.values))\n",
        "\n",
        "for feat, targ in embedded_dataset.take(3):\n",
        "  print ('Features: {}, Target: {}'.format(feat, targ))\n",
        "\n",
        "for feat, targ in processed_dataset.take(3):\n",
        "  print ('Features: {}, Target: {}'.format(feat, targ))"
      ],
      "execution_count": 98,
      "outputs": [
        {
          "output_type": "stream",
          "text": [
            "Features: b\"Pedro wants to ride his skateboard. Pedro has pads for his knees. he also has pads for his elbows. He has pads for his hands. He puts on his helmet. Pedro puts on his safety shoes. He has his skateboard. Let's have fun!\", Target: 1\n",
            "Features: b'People eat shrimp. Shrimp comes from the ocean. People eat clams. Clams come from the ocean. People eat lobsters. Lobsters come from the ocean. People eat small fish. Small fish come from the ocean. People eat big fish. Big fish come from the ocean. People eat mussels. Mussels come from the ocean. People eat many foods from the ocean.', Target: 1\n",
            "Features: b'Look at all of these big buildings! This is a city. A city is an urban community. An urban community is a place where many people live. Do you know what these big buildings are? They are apartment buildings. Many people in urban communities live in apartments. People in all communities work. Some people in cities work in factories. Factories make things like cars, tools, and toys. People in cities may work in offices. Many people from the suburbs commute to urban communities to work. All communities have people who help others stay healthy. Cities have big hospitals that can provide medical care to many people. Schools and churches are usually bigger in cities than in smaller communities. You need big buildings when there are many people in a community. How do people get from place to place in a city? There are many cars and trucks in an urban community. There are also taxicabs, buses, and trains. Things made in cities are shipped to other places every day. Goods from rural communities such as fruits and vegetables, are shipped in to cities daily. Many colleges, museums, and parks are located in urban communities. People go to cities to see plays, attend concerts, and enjoy art. There are many restaurants, movie theaters, and sports facilities in urban communities. People in cities have many places to go for fun! Now you know more about life in an urban community. Many people live in cities. Cities are amazing!', Target: 2\n",
            "Features: [43.     8.     5.375], Target: 1\n",
            "Features: [59.         13.          4.53846154], Target: 1\n",
            "Features: [246.          28.           8.78571429], Target: 2\n"
          ],
          "name": "stdout"
        }
      ]
    },
    {
      "cell_type": "code",
      "metadata": {
        "id": "CI4TAvrGiUfg",
        "colab_type": "code",
        "colab": {}
      },
      "source": [
        "#the percent of the data that goes into the training set VS validation set\n",
        "percentTV = .8\n",
        "\n",
        "#split up the data, using a percentage for the training set and all the data for testing\n",
        "num_take = tf.cast((len(rd)*percentTV), tf.int64)\n",
        "train_data = (embedded_dataset.take(num_take), processed_dataset.take(num_take))\n",
        "validation_data = (embedded_dataset.skip(num_take).take(len(rd)-num_take), \n",
        "                   processed_dataset.skip(num_take).take(len(rd)-num_take))\n",
        "test_data = (embedded_dataset, processed_dataset)\n"
      ],
      "execution_count": 100,
      "outputs": []
    },
    {
      "cell_type": "markdown",
      "metadata": {
        "id": "pIP--zS5OCzM",
        "colab_type": "text"
      },
      "source": [
        "PS : How to flatten a matrix into a single array\n",
        "\n",
        "`flattened = [val for sublist in sentences for val in sublist]`"
      ]
    },
    {
      "cell_type": "markdown",
      "metadata": {
        "id": "HbXxw4CrUGBf",
        "colab_type": "text"
      },
      "source": [
        "## Setting up a Model with Tensorflow"
      ]
    },
    {
      "cell_type": "markdown",
      "metadata": {
        "id": "PALUiYUQ5iQ6",
        "colab_type": "text"
      },
      "source": [
        "I will be using the Keras Functional model that allows for a more complex model architecture. \n",
        "\n",
        "My first input will be the words themselves, and that section of the model will predict the class (grade level) based upon features it finds. The words will be encoded by a THub word encoding layer, and then passed through a few dense layers. \n",
        "\n",
        "The second section of the model will take the word/sentence length, complexity/maturity, etc. as Inputs (features that I find)."
      ]
    },
    {
      "cell_type": "markdown",
      "metadata": {
        "id": "0ECLyJkIumpc",
        "colab_type": "text"
      },
      "source": [
        "#### Using Our Pre-Processed Text"
      ]
    },
    {
      "cell_type": "code",
      "metadata": {
        "id": "iqjPSgyovKyU",
        "colab_type": "code",
        "colab": {}
      },
      "source": [
        "#https://keras.io/guides/functional_api/\n",
        "processed_input = keras.Input(shape=(3, ), name = \"processed_input\")"
      ],
      "execution_count": 101,
      "outputs": []
    },
    {
      "cell_type": "markdown",
      "metadata": {
        "id": "6p3-lUyCuTDp",
        "colab_type": "text"
      },
      "source": [
        "#### Using TensorFlow-Hub\n",
        "Rather than training on features, we can also have the computer itself look at the text and reading levels and try and come up with its own way of classifying the text. We will use Tensorflow-Hub to have another means of processing the text into a shape keras can use.\n"
      ]
    },
    {
      "cell_type": "code",
      "metadata": {
        "id": "AA_Nu0pVlXty",
        "colab_type": "code",
        "colab": {
          "base_uri": "https://localhost:8080/",
          "height": 356
        },
        "outputId": "b4fbab15-7f35-48a2-e790-7f8172acfa88"
      },
      "source": [
        "#Set up the layers of the model using the Sequential API.\n",
        "\n",
        "embedding = \"https://tfhub.dev/google/tf2-preview/gnews-swivel-20dim/1\"\n",
        "hub_layer = hub.KerasLayer(embedding, input_shape=[], \n",
        "                           dtype=tf.string, trainable=True)\n",
        "\n",
        "#hub_layer()\n",
        "\n",
        "embedded_model = tf.keras.Sequential()\n",
        "\n",
        "embedded_model.add(hub_layer)\n",
        "embedded_model.add(tf.keras.layers.Dense(16, activation='relu'))\n",
        "embedded_model.add(tf.keras.layers.Dense(1, activation='sigmoid'))\n",
        "\n",
        "embedded_model.summary()"
      ],
      "execution_count": 102,
      "outputs": [
        {
          "output_type": "stream",
          "text": [
            "WARNING:tensorflow:11 out of the last 11 calls to <function recreate_function.<locals>.restored_function_body at 0x7f667d2ceae8> triggered tf.function retracing. Tracing is expensive and the excessive number of tracings could be due to (1) creating @tf.function repeatedly in a loop, (2) passing tensors with different shapes, (3) passing Python objects instead of tensors. For (1), please define your @tf.function outside of the loop. For (2), @tf.function has experimental_relax_shapes=True option that relaxes argument shapes that can avoid unnecessary retracing. For (3), please refer to https://www.tensorflow.org/tutorials/customization/performance#python_or_tensor_args and https://www.tensorflow.org/api_docs/python/tf/function for  more details.\n"
          ],
          "name": "stdout"
        },
        {
          "output_type": "stream",
          "text": [
            "WARNING:tensorflow:11 out of the last 11 calls to <function recreate_function.<locals>.restored_function_body at 0x7f667d2ceae8> triggered tf.function retracing. Tracing is expensive and the excessive number of tracings could be due to (1) creating @tf.function repeatedly in a loop, (2) passing tensors with different shapes, (3) passing Python objects instead of tensors. For (1), please define your @tf.function outside of the loop. For (2), @tf.function has experimental_relax_shapes=True option that relaxes argument shapes that can avoid unnecessary retracing. For (3), please refer to https://www.tensorflow.org/tutorials/customization/performance#python_or_tensor_args and https://www.tensorflow.org/api_docs/python/tf/function for  more details.\n"
          ],
          "name": "stderr"
        },
        {
          "output_type": "stream",
          "text": [
            "WARNING:tensorflow:11 out of the last 11 calls to <function recreate_function.<locals>.restored_function_body at 0x7f667d2cb510> triggered tf.function retracing. Tracing is expensive and the excessive number of tracings could be due to (1) creating @tf.function repeatedly in a loop, (2) passing tensors with different shapes, (3) passing Python objects instead of tensors. For (1), please define your @tf.function outside of the loop. For (2), @tf.function has experimental_relax_shapes=True option that relaxes argument shapes that can avoid unnecessary retracing. For (3), please refer to https://www.tensorflow.org/tutorials/customization/performance#python_or_tensor_args and https://www.tensorflow.org/api_docs/python/tf/function for  more details.\n"
          ],
          "name": "stdout"
        },
        {
          "output_type": "stream",
          "text": [
            "WARNING:tensorflow:11 out of the last 11 calls to <function recreate_function.<locals>.restored_function_body at 0x7f667d2cb510> triggered tf.function retracing. Tracing is expensive and the excessive number of tracings could be due to (1) creating @tf.function repeatedly in a loop, (2) passing tensors with different shapes, (3) passing Python objects instead of tensors. For (1), please define your @tf.function outside of the loop. For (2), @tf.function has experimental_relax_shapes=True option that relaxes argument shapes that can avoid unnecessary retracing. For (3), please refer to https://www.tensorflow.org/tutorials/customization/performance#python_or_tensor_args and https://www.tensorflow.org/api_docs/python/tf/function for  more details.\n"
          ],
          "name": "stderr"
        },
        {
          "output_type": "stream",
          "text": [
            "Model: \"sequential_2\"\n",
            "_________________________________________________________________\n",
            "Layer (type)                 Output Shape              Param #   \n",
            "=================================================================\n",
            "keras_layer_18 (KerasLayer)  (None, 20)                400020    \n",
            "_________________________________________________________________\n",
            "dense_5 (Dense)              (None, 16)                336       \n",
            "_________________________________________________________________\n",
            "dense_6 (Dense)              (None, 1)                 17        \n",
            "=================================================================\n",
            "Total params: 400,373\n",
            "Trainable params: 400,373\n",
            "Non-trainable params: 0\n",
            "_________________________________________________________________\n"
          ],
          "name": "stdout"
        }
      ]
    },
    {
      "cell_type": "code",
      "metadata": {
        "id": "JgRvVlg6ZN60",
        "colab_type": "code",
        "colab": {}
      },
      "source": [
        "#following the tensorflow.org tutorial on ML on text\n",
        "embedded_model.compile(optimizer='adam',\n",
        "              loss='binary_crossentropy',\n",
        "              metrics=['accuracy'])"
      ],
      "execution_count": 103,
      "outputs": []
    },
    {
      "cell_type": "code",
      "metadata": {
        "id": "9oa_rYYOPUyv",
        "colab_type": "code",
        "colab": {}
      },
      "source": [
        "mergedOut = tf.keras.layers.Concatenate()([embedded_model.output, processed_input])\n",
        "mergedOut = tf.keras.layers.Dense(1, activation='sigmoid') (mergedOut)"
      ],
      "execution_count": 104,
      "outputs": []
    },
    {
      "cell_type": "code",
      "metadata": {
        "id": "9ly_4VtbSCZf",
        "colab_type": "code",
        "colab": {
          "base_uri": "https://localhost:8080/",
          "height": 425
        },
        "outputId": "0b72f09c-e5b0-44d2-b479-b3c8ae083610"
      },
      "source": [
        "model = tf.keras.Model([embedded_model.input, processed_input], mergedOut)\n",
        "model.summary()"
      ],
      "execution_count": 115,
      "outputs": [
        {
          "output_type": "stream",
          "text": [
            "Model: \"functional_3\"\n",
            "__________________________________________________________________________________________________\n",
            "Layer (type)                    Output Shape         Param #     Connected to                     \n",
            "==================================================================================================\n",
            "keras_layer_18_input (InputLaye [(None,)]            0                                            \n",
            "__________________________________________________________________________________________________\n",
            "keras_layer_18 (KerasLayer)     (None, 20)           400020      keras_layer_18_input[0][0]       \n",
            "__________________________________________________________________________________________________\n",
            "dense_5 (Dense)                 (None, 16)           336         keras_layer_18[0][0]             \n",
            "__________________________________________________________________________________________________\n",
            "dense_6 (Dense)                 (None, 1)            17          dense_5[0][0]                    \n",
            "__________________________________________________________________________________________________\n",
            "processed_input (InputLayer)    [(None, 3)]          0                                            \n",
            "__________________________________________________________________________________________________\n",
            "concatenate (Concatenate)       (None, 4)            0           dense_6[0][0]                    \n",
            "                                                                 processed_input[0][0]            \n",
            "__________________________________________________________________________________________________\n",
            "dense_7 (Dense)                 (None, 1)            5           concatenate[0][0]                \n",
            "==================================================================================================\n",
            "Total params: 400,378\n",
            "Trainable params: 400,378\n",
            "Non-trainable params: 0\n",
            "__________________________________________________________________________________________________\n"
          ],
          "name": "stdout"
        }
      ]
    },
    {
      "cell_type": "code",
      "metadata": {
        "id": "TQ05yZLLTStT",
        "colab_type": "code",
        "colab": {}
      },
      "source": [
        "model.compile(optimizer='adam',\n",
        "              loss='binary_crossentropy',\n",
        "              metrics=['accuracy'])"
      ],
      "execution_count": 108,
      "outputs": []
    },
    {
      "cell_type": "code",
      "metadata": {
        "id": "SjLIOsYAflgW",
        "colab_type": "code",
        "colab": {
          "base_uri": "https://localhost:8080/",
          "height": 52
        },
        "outputId": "bb4e554b-02b3-4601-863b-ee38ace9adec"
      },
      "source": [
        "for a, b in train_data.batch(num_take).take(5):\n",
        "  print(\"Feature shape: \", a.shape)\n",
        "  print(\"Target shape: \", b.shape)"
      ],
      "execution_count": 25,
      "outputs": [
        {
          "output_type": "stream",
          "text": [
            "Feature shape:  (4,)\n",
            "Target shape:  (4,)\n"
          ],
          "name": "stdout"
        }
      ]
    },
    {
      "cell_type": "code",
      "metadata": {
        "id": "7_QX7gdLTiU0",
        "colab_type": "code",
        "colab": {}
      },
      "source": [
        "history = model.fit(train_data[0].shuffle(num_take).batch(2),\n",
        "                    epochs=4,\n",
        "                    validation_data=validation_data[0].batch(len(rd)-num_take),\n",
        "                    verbose=1)"
      ],
      "execution_count": null,
      "outputs": []
    },
    {
      "cell_type": "markdown",
      "metadata": {
        "id": "A9-L_T7jozDq",
        "colab_type": "text"
      },
      "source": [
        "And let's see how the model performs. Two values will be returned. Loss (a number which represents our error, lower values are better), and accuracy."
      ]
    },
    {
      "cell_type": "code",
      "metadata": {
        "id": "ESeGOpqxoua-",
        "colab_type": "code",
        "colab": {
          "base_uri": "https://localhost:8080/",
          "height": 70
        },
        "outputId": "964de2ce-0e52-48d7-8ff6-3f11face681c"
      },
      "source": [
        "results = model.evaluate(test_data.batch(5), verbose=2)\n",
        "\n",
        "for name, value in zip(model.metrics_names, results):\n",
        "  print(\"%s: %.3f\" % (name, value))"
      ],
      "execution_count": 27,
      "outputs": [
        {
          "output_type": "stream",
          "text": [
            "1/1 - 0s - loss: -6.8731e-01 - accuracy: 0.4000\n",
            "loss: -0.687\n",
            "accuracy: 0.400\n"
          ],
          "name": "stdout"
        }
      ]
    },
    {
      "cell_type": "code",
      "metadata": {
        "id": "gKoS8Qe9R0Ug",
        "colab_type": "code",
        "colab": {
          "base_uri": "https://localhost:8080/",
          "height": 34
        },
        "outputId": "aea8de85-d745-49eb-9742-c86bcd213810"
      },
      "source": [
        "print(model.predict([\"A banana was walking down the road when he tripped into the water.\"]))\n"
      ],
      "execution_count": 40,
      "outputs": [
        {
          "output_type": "stream",
          "text": [
            "[[0.5794918]]\n"
          ],
          "name": "stdout"
        }
      ]
    }
  ]
}